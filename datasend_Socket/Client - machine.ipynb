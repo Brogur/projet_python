{
 "cells": [
  {
   "cell_type": "code",
   "execution_count": null,
   "metadata": {},
   "outputs": [],
   "source": [
    "import socket\n",
    "import time\n",
    "import threading\n",
    "from rockcomm.commsocket import CommSocket\n",
    "from rockcomm.datasave import Data\n",
    "from rockcomm.connexionthread import ConnexionThread\n",
    "\n",
    "\n",
    "class DatasendSocket():\n",
    "    def __init__(self, sock):\n",
    "        self.sock = sock\n",
    "        return\n",
    "\n",
    "    def sendData(self, data):\n",
    "        print('sending')\n",
    "        self.sock.send(data.dtype.encode())\n",
    "        check = self.sock.recv(2048)\n",
    "        if check != b'DTYPE RCVED':\n",
    "            raise RuntimeError('Problem with dtype sending : {}'.format(check))\n",
    "        print('dtype sent')\n",
    "        self.sock.send(str(data.dvalue).encode())\n",
    "        check = self.sock.recv(2048)\n",
    "        if check != b'DVALUE RCVED':\n",
    "            raise RuntimeError('Problem with dtype sending : {}'.format(check))\n",
    "        print('dvalue sent')\n",
    "        self.sock.send('EOD'.encode())\n",
    "        check = self.sock.recv(2048)\n",
    "        if check != b'EOD RCVED':\n",
    "            raise RuntimeError('Problem with EOD sending : {}'.format(check.decode()))\n",
    "        print('EOD sent')\n",
    "        return\n",
    "        #self.sock.close()\n",
    "\n",
    "class CommandAnswerSocket(CommSocket):\n",
    "    def comm(self):\n",
    "        command = self.sock.recv(2048)\n",
    "        if command == b'SEND HELLO':\n",
    "            self.sock.send(b'Hello')\n",
    "        self.sock.close()\n",
    "\n",
    "\n",
    "class DatasendThread(threading.Thread):\n",
    "    def __init__(self, address, data, continuous=True):\n",
    "        threading.Thread.__init__(self)\n",
    "        self.address = address\n",
    "        self.data = data\n",
    "        self.continuous = continuous\n",
    "        return\n",
    "    \n",
    "    def run(self):\n",
    "        while(self.continuous):\n",
    "            self.sock = socket.socket(socket.AF_INET, socket.SOCK_STREAM)\n",
    "            self.sock.connect(self.address)\n",
    "            DSendSock = DatasendSocket(self.sock)\n",
    "            DSendSock.sendData(self.data)\n",
    "            self.sock.close()\n",
    "            time.sleep(1)\n",
    "        print('Datasend Thread at {} shutting down'.format(self.address))\n",
    "\n",
    "ipaddDSEND = ('', 1111)\n",
    "ipaddCRCV = ('', 1112)"
   ]
  },
  {
   "cell_type": "code",
   "execution_count": null,
   "metadata": {},
   "outputs": [],
   "source": [
    "#sockDSEND = socket.socket(socket.AF_INET, socket.SOCK_STREAM)\n",
    "#sockCRCV = socket.socket(socket.AF_INET, socket.SOCK_STREAM)"
   ]
  },
  {
   "cell_type": "code",
   "execution_count": null,
   "metadata": {},
   "outputs": [],
   "source": [
    "sockDSEND.connect(ipaddDSEND) #must start server first\n",
    "sockCRCV.connect(ipaddCRCV)"
   ]
  },
  {
   "cell_type": "code",
   "execution_count": null,
   "metadata": {},
   "outputs": [],
   "source": [
    "data = Data('altitude', 40.9, time.time())\n",
    "MySocketDSEND = DatasendSocket(sockDSEND, ipaddressDSEND)\n",
    "DSendThread = DatasendThread(MySocketDSEND, data)\n",
    "DSendThread.start()"
   ]
  },
  {
   "cell_type": "code",
   "execution_count": null,
   "metadata": {},
   "outputs": [],
   "source": [
    "MySocketCRCV = CommandAnswerSocket(sockCRCV, ipaddressCRCV)\n",
    "MySocketCRCV.comm()"
   ]
  },
  {
   "cell_type": "code",
   "execution_count": null,
   "metadata": {},
   "outputs": [],
   "source": [
    "DSndThread = DatasendThread(ipaddDSEND, Data('acceleration', 9.806))\n",
    "DSndThread.start()"
   ]
  },
  {
   "cell_type": "code",
   "execution_count": null,
   "metadata": {},
   "outputs": [],
   "source": [
    "DSndThread.continuous = False\n"
   ]
  },
  {
   "cell_type": "code",
   "execution_count": null,
   "metadata": {},
   "outputs": [],
   "source": []
  },
  {
   "cell_type": "code",
   "execution_count": null,
   "metadata": {},
   "outputs": [],
   "source": [
    "import socket\n",
    "\n",
    "sock = socket.socket(socket.AF_INET, socket.SOCK_STREAM)\n",
    "sock.setsockopt(socket.SOL_SOCKET, socket.SO_REUSEADDR, 1)\n",
    "sock.connect(('', 9999))\n",
    "sock.send(b'caca')"
   ]
  },
  {
   "cell_type": "code",
   "execution_count": null,
   "metadata": {},
   "outputs": [],
   "source": []
  },
  {
   "cell_type": "code",
   "execution_count": null,
   "metadata": {},
   "outputs": [],
   "source": []
  },
  {
   "cell_type": "code",
   "execution_count": null,
   "metadata": {},
   "outputs": [],
   "source": []
  },
  {
   "cell_type": "code",
   "execution_count": null,
   "metadata": {},
   "outputs": [],
   "source": []
  },
  {
   "cell_type": "code",
   "execution_count": null,
   "metadata": {},
   "outputs": [],
   "source": []
  },
  {
   "cell_type": "code",
   "execution_count": null,
   "metadata": {},
   "outputs": [],
   "source": []
  },
  {
   "cell_type": "code",
   "execution_count": null,
   "metadata": {},
   "outputs": [],
   "source": []
  }
 ],
 "metadata": {
  "kernelspec": {
   "display_name": "Python 3",
   "language": "python",
   "name": "python3"
  },
  "language_info": {
   "codemirror_mode": {
    "name": "ipython",
    "version": 3
   },
   "file_extension": ".py",
   "mimetype": "text/x-python",
   "name": "python",
   "nbconvert_exporter": "python",
   "pygments_lexer": "ipython3",
   "version": "3.7.4"
  }
 },
 "nbformat": 4,
 "nbformat_minor": 2
}
